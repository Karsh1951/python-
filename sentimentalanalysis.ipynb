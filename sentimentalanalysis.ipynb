{
  "nbformat": 4,
  "nbformat_minor": 0,
  "metadata": {
    "colab": {
      "provenance": [],
      "authorship_tag": "ABX9TyPT9keis7oTL49MJztapcF6",
      "include_colab_link": true
    },
    "kernelspec": {
      "name": "python3",
      "display_name": "Python 3"
    },
    "language_info": {
      "name": "python"
    }
  },
  "cells": [
    {
      "cell_type": "markdown",
      "metadata": {
        "id": "view-in-github",
        "colab_type": "text"
      },
      "source": [
        "<a href=\"https://colab.research.google.com/github/Karsh1951/python-/blob/main/sentimentalanalysis.ipynb\" target=\"_parent\"><img src=\"https://colab.research.google.com/assets/colab-badge.svg\" alt=\"Open In Colab\"/></a>"
      ]
    },
    {
      "cell_type": "code",
      "execution_count": 49,
      "metadata": {
        "id": "xtVrbV2aKKGy",
        "colab": {
          "base_uri": "https://localhost:8080/"
        },
        "outputId": "3b879281-e59e-4000-cbb8-027e3142a1c6"
      },
      "outputs": [
        {
          "output_type": "stream",
          "name": "stderr",
          "text": [
            "[nltk_data] Downloading package punkt to /root/nltk_data...\n",
            "[nltk_data]   Package punkt is already up-to-date!\n",
            "[nltk_data] Downloading package averaged_perceptron_tagger to\n",
            "[nltk_data]     /root/nltk_data...\n",
            "[nltk_data]   Package averaged_perceptron_tagger is already up-to-\n",
            "[nltk_data]       date!\n",
            "[nltk_data] Downloading package maxent_ne_chunker to\n",
            "[nltk_data]     /root/nltk_data...\n",
            "[nltk_data]   Package maxent_ne_chunker is already up-to-date!\n",
            "[nltk_data] Downloading package vader_lexicon to /root/nltk_data...\n"
          ]
        },
        {
          "output_type": "execute_result",
          "data": {
            "text/plain": [
              "True"
            ]
          },
          "metadata": {},
          "execution_count": 49
        }
      ],
      "source": [
        "import pandas as pd\n",
        "import numpy as np\n",
        "import matplotlib.pyplot as plt\n",
        "import seaborn as sns\n",
        "plt.style.use('ggplot')\n",
        "import nltk\n",
        "nltk.download('punkt')\n",
        "nltk.download('averaged_perceptron_tagger')\n",
        "nltk.download('maxent_ne_chunker')\n",
        "nltk.download('vader_lexicon')\n",
        "\n"
      ]
    },
    {
      "cell_type": "code",
      "source": [
        "#Reading our data\n",
        "df = pd.read_csv('/content/Test.csv')\n",
        "df = pd.read_csv('/content/Valid.csv')\n"
      ],
      "metadata": {
        "id": "eldN0cFgME3c"
      },
      "execution_count": null,
      "outputs": []
    },
    {
      "cell_type": "code",
      "source": [
        "df.head()"
      ],
      "metadata": {
        "colab": {
          "base_uri": "https://localhost:8080/",
          "height": 206
        },
        "id": "6Sv-xZ5tYWc_",
        "outputId": "de46fff1-b055-4bfa-c515-38a777316397"
      },
      "execution_count": null,
      "outputs": [
        {
          "output_type": "execute_result",
          "data": {
            "text/plain": [
              "                                                text  label\n",
              "0  It's been about 14 years since Sharon Stone aw...      0\n",
              "1  someone needed to make a car payment... this i...      0\n",
              "2  The Guidelines state that a comment must conta...      0\n",
              "3  This movie is a muddled mish-mash of clichés f...      0\n",
              "4  Before Stan Laurel became the smaller half of ...      0"
            ],
            "text/html": [
              "\n",
              "  <div id=\"df-2b2bfcbc-5597-4358-a555-50e7d3a1b899\">\n",
              "    <div class=\"colab-df-container\">\n",
              "      <div>\n",
              "<style scoped>\n",
              "    .dataframe tbody tr th:only-of-type {\n",
              "        vertical-align: middle;\n",
              "    }\n",
              "\n",
              "    .dataframe tbody tr th {\n",
              "        vertical-align: top;\n",
              "    }\n",
              "\n",
              "    .dataframe thead th {\n",
              "        text-align: right;\n",
              "    }\n",
              "</style>\n",
              "<table border=\"1\" class=\"dataframe\">\n",
              "  <thead>\n",
              "    <tr style=\"text-align: right;\">\n",
              "      <th></th>\n",
              "      <th>text</th>\n",
              "      <th>label</th>\n",
              "    </tr>\n",
              "  </thead>\n",
              "  <tbody>\n",
              "    <tr>\n",
              "      <th>0</th>\n",
              "      <td>It's been about 14 years since Sharon Stone aw...</td>\n",
              "      <td>0</td>\n",
              "    </tr>\n",
              "    <tr>\n",
              "      <th>1</th>\n",
              "      <td>someone needed to make a car payment... this i...</td>\n",
              "      <td>0</td>\n",
              "    </tr>\n",
              "    <tr>\n",
              "      <th>2</th>\n",
              "      <td>The Guidelines state that a comment must conta...</td>\n",
              "      <td>0</td>\n",
              "    </tr>\n",
              "    <tr>\n",
              "      <th>3</th>\n",
              "      <td>This movie is a muddled mish-mash of clichés f...</td>\n",
              "      <td>0</td>\n",
              "    </tr>\n",
              "    <tr>\n",
              "      <th>4</th>\n",
              "      <td>Before Stan Laurel became the smaller half of ...</td>\n",
              "      <td>0</td>\n",
              "    </tr>\n",
              "  </tbody>\n",
              "</table>\n",
              "</div>\n",
              "      <button class=\"colab-df-convert\" onclick=\"convertToInteractive('df-2b2bfcbc-5597-4358-a555-50e7d3a1b899')\"\n",
              "              title=\"Convert this dataframe to an interactive table.\"\n",
              "              style=\"display:none;\">\n",
              "        \n",
              "  <svg xmlns=\"http://www.w3.org/2000/svg\" height=\"24px\"viewBox=\"0 0 24 24\"\n",
              "       width=\"24px\">\n",
              "    <path d=\"M0 0h24v24H0V0z\" fill=\"none\"/>\n",
              "    <path d=\"M18.56 5.44l.94 2.06.94-2.06 2.06-.94-2.06-.94-.94-2.06-.94 2.06-2.06.94zm-11 1L8.5 8.5l.94-2.06 2.06-.94-2.06-.94L8.5 2.5l-.94 2.06-2.06.94zm10 10l.94 2.06.94-2.06 2.06-.94-2.06-.94-.94-2.06-.94 2.06-2.06.94z\"/><path d=\"M17.41 7.96l-1.37-1.37c-.4-.4-.92-.59-1.43-.59-.52 0-1.04.2-1.43.59L10.3 9.45l-7.72 7.72c-.78.78-.78 2.05 0 2.83L4 21.41c.39.39.9.59 1.41.59.51 0 1.02-.2 1.41-.59l7.78-7.78 2.81-2.81c.8-.78.8-2.07 0-2.86zM5.41 20L4 18.59l7.72-7.72 1.47 1.35L5.41 20z\"/>\n",
              "  </svg>\n",
              "      </button>\n",
              "      \n",
              "  <style>\n",
              "    .colab-df-container {\n",
              "      display:flex;\n",
              "      flex-wrap:wrap;\n",
              "      gap: 12px;\n",
              "    }\n",
              "\n",
              "    .colab-df-convert {\n",
              "      background-color: #E8F0FE;\n",
              "      border: none;\n",
              "      border-radius: 50%;\n",
              "      cursor: pointer;\n",
              "      display: none;\n",
              "      fill: #1967D2;\n",
              "      height: 32px;\n",
              "      padding: 0 0 0 0;\n",
              "      width: 32px;\n",
              "    }\n",
              "\n",
              "    .colab-df-convert:hover {\n",
              "      background-color: #E2EBFA;\n",
              "      box-shadow: 0px 1px 2px rgba(60, 64, 67, 0.3), 0px 1px 3px 1px rgba(60, 64, 67, 0.15);\n",
              "      fill: #174EA6;\n",
              "    }\n",
              "\n",
              "    [theme=dark] .colab-df-convert {\n",
              "      background-color: #3B4455;\n",
              "      fill: #D2E3FC;\n",
              "    }\n",
              "\n",
              "    [theme=dark] .colab-df-convert:hover {\n",
              "      background-color: #434B5C;\n",
              "      box-shadow: 0px 1px 3px 1px rgba(0, 0, 0, 0.15);\n",
              "      filter: drop-shadow(0px 1px 2px rgba(0, 0, 0, 0.3));\n",
              "      fill: #FFFFFF;\n",
              "    }\n",
              "  </style>\n",
              "\n",
              "      <script>\n",
              "        const buttonEl =\n",
              "          document.querySelector('#df-2b2bfcbc-5597-4358-a555-50e7d3a1b899 button.colab-df-convert');\n",
              "        buttonEl.style.display =\n",
              "          google.colab.kernel.accessAllowed ? 'block' : 'none';\n",
              "\n",
              "        async function convertToInteractive(key) {\n",
              "          const element = document.querySelector('#df-2b2bfcbc-5597-4358-a555-50e7d3a1b899');\n",
              "          const dataTable =\n",
              "            await google.colab.kernel.invokeFunction('convertToInteractive',\n",
              "                                                     [key], {});\n",
              "          if (!dataTable) return;\n",
              "\n",
              "          const docLinkHtml = 'Like what you see? Visit the ' +\n",
              "            '<a target=\"_blank\" href=https://colab.research.google.com/notebooks/data_table.ipynb>data table notebook</a>'\n",
              "            + ' to learn more about interactive tables.';\n",
              "          element.innerHTML = '';\n",
              "          dataTable['output_type'] = 'display_data';\n",
              "          await google.colab.output.renderOutput(dataTable, element);\n",
              "          const docLink = document.createElement('div');\n",
              "          docLink.innerHTML = docLinkHtml;\n",
              "          element.appendChild(docLink);\n",
              "        }\n",
              "      </script>\n",
              "    </div>\n",
              "  </div>\n",
              "  "
            ]
          },
          "metadata": {},
          "execution_count": 26
        }
      ]
    },
    {
      "cell_type": "code",
      "source": [
        "print(df.shape)"
      ],
      "metadata": {
        "colab": {
          "base_uri": "https://localhost:8080/"
        },
        "id": "8JBeufdKYgw_",
        "outputId": "ebcedf0b-594a-4948-f003-7af25f1e831a"
      },
      "execution_count": null,
      "outputs": [
        {
          "output_type": "stream",
          "name": "stdout",
          "text": [
            "(5000, 2)\n"
          ]
        }
      ]
    },
    {
      "cell_type": "code",
      "source": [
        "#QUICK EDA\n",
        "example= df['text'][50]\n",
        "print(example)\n"
      ],
      "metadata": {
        "colab": {
          "base_uri": "https://localhost:8080/"
        },
        "id": "Hogr0-FdZQ58",
        "outputId": "203aa1fd-e0f2-4701-8315-d615a805969a"
      },
      "execution_count": 29,
      "outputs": [
        {
          "output_type": "stream",
          "name": "stdout",
          "text": [
            "Another Pokemon movie has hit the theaters, and again, I'm hearing the same old, \"Pokemon is dead, blah blah blah.\" The franchise's detractors couldn't be more wrong. Kids are still playing the trading card game, they're still watching the TV series, they're waiting for the Game Boy Advance games, and they want to see \"Pokemon the 4th Movie.\"<br /><br />That said, \"Pokemon The 4th Movie\" introduces us to two more \"legendary\" Pokemon: Suicune, the \"north wind\" of lore, and Celebi, guardian of the forest (and star of the show). Celebi transports itself and a boy named Sam 40 years into the future, to the present day, where Pokemon trainer Ash, his faithful Pikachu, and his friends Brock and Misty are traveling through Johto. Sam and Ash become fast friends, once they discover the other's mutual love for Pokemon (Sam's vintage Pokeball with screw-on top is a great moment). Together, they decide to protect Celebi from the villain of the story, the Team Rocket agent aptly named Vicious, who is hell-bent on capturing Celebi for his own ends. Will Ash and Sam be able to protect Celebi from Vicious' Dark Balls? Where does Suicune fit into the picture? Will Jessie, James, and Meowth have bigger parts in this movie than before? And just who is Sam, really?<br /><br />Like with the first 3 movies, if you go into the movie deciding that you're automatically going to hate it no matter what simply because it's Pokemon (or just because your child/niece/nephew/younger sibling/et cetera \"dragged\" you into it), then you're going to hate it because you've decided that you want to hate it. That may be, but to blindly trash \"Pokemon The 4th Movie\" simply because it is a Pokemon movie, and especially without having seen it, is just plain stupid. Even non-fans can enjoy this movie without having to know every last detail of the world of Pokemon. I'm not saying that you WILL become a Pokemon fan because of this movie, but you CAN indeed enjoy it, if you'll let yourself.<br /><br />Unlike the first 3 Pokemon movies, \"Pokemon the 4th Movie\" is being distributed by Miramax, who I've heard is also working on securing the rights to the 5th Pokemon movie, which was released this past summer in Japan. Miramax claims to have some boffo-aggressive marketing strategy for \"Pokemon The 4th Movie,\" but all I've seen so far is a feeble limited release, which doesn't include the usual Pikachu short in the beginning, which I was really looking forward to this time. I hope that Miramax will see fit to put the Pikachu short, called \"Pikachu's Exciting Hide-and-Seek,\" onto at least the DVD/VHS release, if not with a future wider release of \"Pokemon The 4th Movie.\" I hope that the current release is just the tip of the iceberg for this very entertaining film.\n"
          ]
        }
      ]
    },
    {
      "cell_type": "code",
      "source": [
        "tokens=nltk.word_tokenize(example)\n",
        "tokens[:10]"
      ],
      "metadata": {
        "colab": {
          "base_uri": "https://localhost:8080/"
        },
        "id": "zEVmmGJve1IE",
        "outputId": "707ec840-440a-4439-c604-d750b09db1fc"
      },
      "execution_count": 33,
      "outputs": [
        {
          "output_type": "execute_result",
          "data": {
            "text/plain": [
              "['Another',\n",
              " 'Pokemon',\n",
              " 'movie',\n",
              " 'has',\n",
              " 'hit',\n",
              " 'the',\n",
              " 'theaters',\n",
              " ',',\n",
              " 'and',\n",
              " 'again']"
            ]
          },
          "metadata": {},
          "execution_count": 33
        }
      ]
    },
    {
      "cell_type": "code",
      "source": [
        "tagged=nltk.pos_tag(tokens)\n",
        "tagged[:10]"
      ],
      "metadata": {
        "id": "Qh-86UHhZeyy",
        "colab": {
          "base_uri": "https://localhost:8080/"
        },
        "outputId": "28a15558-028d-46d4-c06f-c1666958230c"
      },
      "execution_count": 38,
      "outputs": [
        {
          "output_type": "execute_result",
          "data": {
            "text/plain": [
              "[('Another', 'DT'),\n",
              " ('Pokemon', 'NNP'),\n",
              " ('movie', 'NN'),\n",
              " ('has', 'VBZ'),\n",
              " ('hit', 'VBN'),\n",
              " ('the', 'DT'),\n",
              " ('theaters', 'NNS'),\n",
              " (',', ','),\n",
              " ('and', 'CC'),\n",
              " ('again', 'RB')]"
            ]
          },
          "metadata": {},
          "execution_count": 38
        }
      ]
    },
    {
      "cell_type": "code",
      "source": [
        "entities =nltk.chunk.ne_chunk(tagged)\n",
        "entities.pprint"
      ],
      "metadata": {
        "colab": {
          "base_uri": "https://localhost:8080/"
        },
        "id": "q73u-xHIhP-b",
        "outputId": "f8673559-1f0f-4339-90ec-2817e02ba1b3"
      },
      "execution_count": 47,
      "outputs": [
        {
          "output_type": "execute_result",
          "data": {
            "text/plain": [
              "<bound method Tree.pprint of Tree('S', [('Another', 'DT'), ('Pokemon', 'NNP'), ('movie', 'NN'), ('has', 'VBZ'), ('hit', 'VBN'), ('the', 'DT'), ('theaters', 'NNS'), (',', ','), ('and', 'CC'), ('again', 'RB'), (',', ','), ('I', 'PRP'), (\"'m\", 'VBP'), ('hearing', 'VBG'), ('the', 'DT'), ('same', 'JJ'), ('old', 'JJ'), (',', ','), ('``', '``'), Tree('PERSON', [('Pokemon', 'NNP')]), ('is', 'VBZ'), ('dead', 'JJ'), (',', ','), ('blah', 'JJ'), ('blah', 'NN'), ('blah', 'NN'), ('.', '.'), (\"''\", \"''\"), ('The', 'DT'), ('franchise', 'NN'), (\"'s\", 'POS'), ('detractors', 'NNS'), ('could', 'MD'), (\"n't\", 'RB'), ('be', 'VB'), ('more', 'JJR'), ('wrong', 'JJ'), ('.', '.'), ('Kids', 'NNS'), ('are', 'VBP'), ('still', 'RB'), ('playing', 'VBG'), ('the', 'DT'), ('trading', 'NN'), ('card', 'NN'), ('game', 'NN'), (',', ','), ('they', 'PRP'), (\"'re\", 'VBP'), ('still', 'RB'), ('watching', 'VBG'), ('the', 'DT'), ('TV', 'NN'), ('series', 'NN'), (',', ','), ('they', 'PRP'), (\"'re\", 'VBP'), ('waiting', 'VBG'), ('for', 'IN'), ('the', 'DT'), ('Game', 'NNP'), ('Boy', 'NNP'), ('Advance', 'NNP'), ('games', 'NNS'), (',', ','), ('and', 'CC'), ('they', 'PRP'), ('want', 'VBP'), ('to', 'TO'), ('see', 'VB'), ('``', '``'), ('Pokemon', 'NNP'), ('the', 'DT'), ('4th', 'JJ'), ('Movie', 'NNP'), ('.', '.'), ('``', '``'), ('<', 'JJ'), ('br', 'NN'), ('/', 'NNP'), ('>', 'NNP'), ('<', 'NNP'), ('br', 'NN'), ('/', 'NNP'), ('>', 'NNP'), ('That', 'NNP'), ('said', 'VBD'), (',', ','), ('``', '``'), ('Pokemon', 'VBD'), ('The', 'DT'), ('4th', 'JJ'), ('Movie', 'NNP'), (\"''\", \"''\"), ('introduces', 'VBZ'), ('us', 'PRP'), ('to', 'TO'), ('two', 'CD'), ('more', 'JJR'), ('``', '``'), ('legendary', 'JJ'), (\"''\", \"''\"), Tree('PERSON', [('Pokemon', 'NN')]), (':', ':'), ('Suicune', 'NNP'), (',', ','), ('the', 'DT'), ('``', '``'), ('north', 'JJ'), ('wind', 'NN'), (\"''\", \"''\"), ('of', 'IN'), ('lore', 'NN'), (',', ','), ('and', 'CC'), Tree('GPE', [('Celebi', 'NNP')]), (',', ','), ('guardian', 'NN'), ('of', 'IN'), ('the', 'DT'), ('forest', 'NN'), ('(', '('), ('and', 'CC'), ('star', 'NN'), ('of', 'IN'), ('the', 'DT'), ('show', 'NN'), (')', ')'), ('.', '.'), Tree('PERSON', [('Celebi', 'NNP')]), ('transports', 'VBZ'), ('itself', 'PRP'), ('and', 'CC'), ('a', 'DT'), ('boy', 'NN'), ('named', 'VBN'), ('Sam', 'NNP'), ('40', 'CD'), ('years', 'NNS'), ('into', 'IN'), ('the', 'DT'), ('future', 'NN'), (',', ','), ('to', 'TO'), ('the', 'DT'), ('present', 'JJ'), ('day', 'NN'), (',', ','), ('where', 'WRB'), Tree('PERSON', [('Pokemon', 'NNP')]), ('trainer', 'NN'), Tree('PERSON', [('Ash', 'NNP')]), (',', ','), ('his', 'PRP$'), ('faithful', 'JJ'), ('Pikachu', 'NNP'), (',', ','), ('and', 'CC'), ('his', 'PRP$'), ('friends', 'NNS'), Tree('PERSON', [('Brock', 'NNP')]), ('and', 'CC'), ('Misty', 'NNP'), ('are', 'VBP'), ('traveling', 'VBG'), ('through', 'IN'), Tree('PERSON', [('Johto', 'NNP')]), ('.', '.'), Tree('PERSON', [('Sam', 'NNP')]), ('and', 'CC'), Tree('ORGANIZATION', [('Ash', 'NNP')]), ('become', 'VBP'), ('fast', 'JJ'), ('friends', 'NNS'), (',', ','), ('once', 'RB'), ('they', 'PRP'), ('discover', 'VBP'), ('the', 'DT'), ('other', 'JJ'), (\"'s\", 'POS'), ('mutual', 'JJ'), ('love', 'NN'), ('for', 'IN'), Tree('GPE', [('Pokemon', 'NNP')]), ('(', '('), Tree('ORGANIZATION', [('Sam', 'NNP')]), (\"'s\", 'POS'), ('vintage', 'NN'), ('Pokeball', 'NN'), ('with', 'IN'), ('screw-on', 'JJ'), ('top', 'NN'), ('is', 'VBZ'), ('a', 'DT'), ('great', 'JJ'), ('moment', 'NN'), (')', ')'), ('.', '.'), ('Together', 'RB'), (',', ','), ('they', 'PRP'), ('decide', 'VBP'), ('to', 'TO'), ('protect', 'VB'), Tree('PERSON', [('Celebi', 'NNP')]), ('from', 'IN'), ('the', 'DT'), ('villain', 'NN'), ('of', 'IN'), ('the', 'DT'), ('story', 'NN'), (',', ','), ('the', 'DT'), Tree('ORGANIZATION', [('Team', 'NNP'), ('Rocket', 'NNP')]), ('agent', 'NN'), ('aptly', 'RB'), ('named', 'VBN'), Tree('PERSON', [('Vicious', 'NNP')]), (',', ','), ('who', 'WP'), ('is', 'VBZ'), ('hell-bent', 'NN'), ('on', 'IN'), ('capturing', 'VBG'), Tree('PERSON', [('Celebi', 'NNP')]), ('for', 'IN'), ('his', 'PRP$'), ('own', 'JJ'), ('ends', 'NNS'), ('.', '.'), ('Will', 'MD'), Tree('PERSON', [('Ash', 'NNP')]), ('and', 'CC'), Tree('PERSON', [('Sam', 'NNP')]), ('be', 'VB'), ('able', 'JJ'), ('to', 'TO'), ('protect', 'VB'), Tree('PERSON', [('Celebi', 'NNP')]), ('from', 'IN'), Tree('PERSON', [('Vicious', 'NNP')]), (\"'\", 'POS'), Tree('PERSON', [('Dark', 'NNP'), ('Balls', 'NNP')]), ('?', '.'), ('Where', 'WRB'), ('does', 'VBZ'), Tree('PERSON', [('Suicune', 'NNP')]), ('fit', 'VB'), ('into', 'IN'), ('the', 'DT'), ('picture', 'NN'), ('?', '.'), Tree('PERSON', [('Will', 'NNP'), ('Jessie', 'NNP')]), (',', ','), Tree('PERSON', [('James', 'NNP')]), (',', ','), ('and', 'CC'), Tree('GPE', [('Meowth', 'NNP')]), ('have', 'VBP'), ('bigger', 'JJR'), ('parts', 'NNS'), ('in', 'IN'), ('this', 'DT'), ('movie', 'NN'), ('than', 'IN'), ('before', 'RB'), ('?', '.'), ('And', 'CC'), ('just', 'RB'), ('who', 'WP'), ('is', 'VBZ'), Tree('PERSON', [('Sam', 'NNP')]), (',', ','), ('really', 'RB'), ('?', '.'), ('<', 'JJ'), ('br', 'NN'), ('/', 'NNP'), ('>', 'NNP'), ('<', 'NNP'), ('br', 'NN'), ('/', 'NNP'), ('>', 'NNP'), ('Like', 'IN'), ('with', 'IN'), ('the', 'DT'), ('first', 'JJ'), ('3', 'CD'), ('movies', 'NNS'), (',', ','), ('if', 'IN'), ('you', 'PRP'), ('go', 'VBP'), ('into', 'IN'), ('the', 'DT'), ('movie', 'NN'), ('deciding', 'VBG'), ('that', 'IN'), ('you', 'PRP'), (\"'re\", 'VBP'), ('automatically', 'RB'), ('going', 'VBG'), ('to', 'TO'), ('hate', 'VB'), ('it', 'PRP'), ('no', 'DT'), ('matter', 'NN'), ('what', 'WP'), ('simply', 'RB'), ('because', 'IN'), ('it', 'PRP'), (\"'s\", 'VBZ'), Tree('GPE', [('Pokemon', 'NNP')]), ('(', '('), ('or', 'CC'), ('just', 'RB'), ('because', 'IN'), ('your', 'PRP$'), ('child/niece/nephew/younger', 'NN'), ('sibling/et', 'NN'), ('cetera', 'NN'), ('``', '``'), ('dragged', 'VBD'), (\"''\", \"''\"), ('you', 'PRP'), ('into', 'IN'), ('it', 'PRP'), (')', ')'), (',', ','), ('then', 'RB'), ('you', 'PRP'), (\"'re\", 'VBP'), ('going', 'VBG'), ('to', 'TO'), ('hate', 'VB'), ('it', 'PRP'), ('because', 'IN'), ('you', 'PRP'), (\"'ve\", 'VBP'), ('decided', 'VBN'), ('that', 'IN'), ('you', 'PRP'), ('want', 'VBP'), ('to', 'TO'), ('hate', 'VB'), ('it', 'PRP'), ('.', '.'), ('That', 'DT'), ('may', 'MD'), ('be', 'VB'), (',', ','), ('but', 'CC'), ('to', 'TO'), ('blindly', 'RB'), ('trash', 'VB'), ('``', '``'), ('Pokemon', 'NNP'), ('The', 'DT'), ('4th', 'JJ'), ('Movie', 'NNP'), (\"''\", \"''\"), ('simply', 'RB'), ('because', 'IN'), ('it', 'PRP'), ('is', 'VBZ'), ('a', 'DT'), Tree('GPE', [('Pokemon', 'NNP')]), ('movie', 'NN'), (',', ','), ('and', 'CC'), ('especially', 'RB'), ('without', 'IN'), ('having', 'VBG'), ('seen', 'VBN'), ('it', 'PRP'), (',', ','), ('is', 'VBZ'), ('just', 'RB'), ('plain', 'JJ'), ('stupid', 'JJ'), ('.', '.'), ('Even', 'RB'), ('non-fans', 'NNS'), ('can', 'MD'), ('enjoy', 'VB'), ('this', 'DT'), ('movie', 'NN'), ('without', 'IN'), ('having', 'VBG'), ('to', 'TO'), ('know', 'VB'), ('every', 'DT'), ('last', 'JJ'), ('detail', 'NN'), ('of', 'IN'), ('the', 'DT'), ('world', 'NN'), ('of', 'IN'), Tree('GPE', [('Pokemon', 'NNP')]), ('.', '.'), ('I', 'PRP'), (\"'m\", 'VBP'), ('not', 'RB'), ('saying', 'VBG'), ('that', 'IN'), ('you', 'PRP'), ('WILL', 'VBP'), ('become', 'VB'), ('a', 'DT'), ('Pokemon', 'JJ'), ('fan', 'NN'), ('because', 'IN'), ('of', 'IN'), ('this', 'DT'), ('movie', 'NN'), (',', ','), ('but', 'CC'), ('you', 'PRP'), ('CAN', 'VBP'), ('indeed', 'RB'), ('enjoy', 'VB'), ('it', 'PRP'), (',', ','), ('if', 'IN'), ('you', 'PRP'), (\"'ll\", 'MD'), ('let', 'VB'), ('yourself.', 'VB'), ('<', 'NNP'), ('br', 'NN'), ('/', 'NNP'), ('>', 'NNP'), ('<', 'NNP'), ('br', 'NN'), ('/', 'NNP'), ('>', 'NNP'), ('Unlike', 'IN'), ('the', 'DT'), ('first', 'JJ'), ('3', 'CD'), ('Pokemon', 'NNP'), ('movies', 'NNS'), (',', ','), ('``', '``'), ('Pokemon', 'VBD'), ('the', 'DT'), ('4th', 'JJ'), ('Movie', 'NNP'), (\"''\", \"''\"), ('is', 'VBZ'), ('being', 'VBG'), ('distributed', 'VBN'), ('by', 'IN'), Tree('PERSON', [('Miramax', 'NNP')]), (',', ','), ('who', 'WP'), ('I', 'PRP'), (\"'ve\", 'VBP'), ('heard', 'VBN'), ('is', 'VBZ'), ('also', 'RB'), ('working', 'VBG'), ('on', 'IN'), ('securing', 'VBG'), ('the', 'DT'), ('rights', 'NNS'), ('to', 'TO'), ('the', 'DT'), ('5th', 'JJ'), ('Pokemon', 'NNP'), ('movie', 'NN'), (',', ','), ('which', 'WDT'), ('was', 'VBD'), ('released', 'VBN'), ('this', 'DT'), ('past', 'JJ'), ('summer', 'NN'), ('in', 'IN'), Tree('GPE', [('Japan', 'NNP')]), ('.', '.'), Tree('PERSON', [('Miramax', 'NNP')]), ('claims', 'VBZ'), ('to', 'TO'), ('have', 'VB'), ('some', 'DT'), ('boffo-aggressive', 'JJ'), ('marketing', 'NN'), ('strategy', 'NN'), ('for', 'IN'), ('``', '``'), ('Pokemon', 'NNP'), ('The', 'DT'), ('4th', 'JJ'), ('Movie', 'NNP'), (',', ','), (\"''\", \"''\"), ('but', 'CC'), ('all', 'DT'), ('I', 'PRP'), (\"'ve\", 'VBP'), ('seen', 'VBN'), ('so', 'RB'), ('far', 'RB'), ('is', 'VBZ'), ('a', 'DT'), ('feeble', 'JJ'), ('limited', 'JJ'), ('release', 'NN'), (',', ','), ('which', 'WDT'), ('does', 'VBZ'), (\"n't\", 'RB'), ('include', 'VB'), ('the', 'DT'), ('usual', 'JJ'), ('Pikachu', 'NNP'), ('short', 'NN'), ('in', 'IN'), ('the', 'DT'), ('beginning', 'NN'), (',', ','), ('which', 'WDT'), ('I', 'PRP'), ('was', 'VBD'), ('really', 'RB'), ('looking', 'VBG'), ('forward', 'RB'), ('to', 'TO'), ('this', 'DT'), ('time', 'NN'), ('.', '.'), ('I', 'PRP'), ('hope', 'VBP'), ('that', 'IN'), Tree('PERSON', [('Miramax', 'NNP')]), ('will', 'MD'), ('see', 'VB'), ('fit', 'JJ'), ('to', 'TO'), ('put', 'VB'), ('the', 'DT'), Tree('ORGANIZATION', [('Pikachu', 'NNP')]), ('short', 'JJ'), (',', ','), ('called', 'VBN'), ('``', '``'), Tree('PERSON', [('Pikachu', 'NNP')]), (\"'s\", 'POS'), ('Exciting', 'NNP'), ('Hide-and-Seek', 'NN'), (',', ','), (\"''\", \"''\"), ('onto', 'IN'), ('at', 'IN'), ('least', 'JJS'), ('the', 'DT'), ('DVD/VHS', 'NNP'), ('release', 'NN'), (',', ','), ('if', 'IN'), ('not', 'RB'), ('with', 'IN'), ('a', 'DT'), ('future', 'NN'), ('wider', 'NN'), ('release', 'NN'), ('of', 'IN'), ('``', '``'), ('Pokemon', 'NNP'), ('The', 'DT'), ('4th', 'JJ'), ('Movie', 'NNP'), ('.', '.'), (\"''\", \"''\"), ('I', 'PRP'), ('hope', 'VBP'), ('that', 'IN'), ('the', 'DT'), ('current', 'JJ'), ('release', 'NN'), ('is', 'VBZ'), ('just', 'RB'), ('the', 'DT'), ('tip', 'NN'), ('of', 'IN'), ('the', 'DT'), ('iceberg', 'NN'), ('for', 'IN'), ('this', 'DT'), ('very', 'RB'), ('entertaining', 'JJ'), ('film', 'NN'), ('.', '.')])>"
            ]
          },
          "metadata": {},
          "execution_count": 47
        }
      ]
    },
    {
      "cell_type": "code",
      "source": [
        "#vader\n",
        "from nltk.sentiment import SentimentIntensityAnalyzer\n",
        "from tqdm.notebook import tqdm\n",
        "sia= SentimentIntensityAnalyzer()\n"
      ],
      "metadata": {
        "id": "hXyM6I0wjmw3"
      },
      "execution_count": 50,
      "outputs": []
    },
    {
      "cell_type": "code",
      "source": [
        "#testing a statement using vader\n",
        "sia.polarity_scores('i am happy')"
      ],
      "metadata": {
        "colab": {
          "base_uri": "https://localhost:8080/"
        },
        "id": "-WTdEji0mAlr",
        "outputId": "fd866e3f-083c-44a5-f18f-b1ca7599e20f"
      },
      "execution_count": 51,
      "outputs": [
        {
          "output_type": "execute_result",
          "data": {
            "text/plain": [
              "{'neg': 0.0, 'neu': 0.213, 'pos': 0.787, 'compound': 0.5719}"
            ]
          },
          "metadata": {},
          "execution_count": 51
        }
      ]
    },
    {
      "cell_type": "code",
      "source": [
        "sia.polarity_scores('this is the worst experience ever')"
      ],
      "metadata": {
        "colab": {
          "base_uri": "https://localhost:8080/"
        },
        "id": "Et3G7gKrmWYI",
        "outputId": "a75ccb79-6454-453e-dc6f-122706e9e910"
      },
      "execution_count": 52,
      "outputs": [
        {
          "output_type": "execute_result",
          "data": {
            "text/plain": [
              "{'neg': 0.451, 'neu': 0.549, 'pos': 0.0, 'compound': -0.6249}"
            ]
          },
          "metadata": {},
          "execution_count": 52
        }
      ]
    },
    {
      "cell_type": "code",
      "source": [
        "sia.polarity_scores(example)"
      ],
      "metadata": {
        "colab": {
          "base_uri": "https://localhost:8080/"
        },
        "id": "0L_pSTj7msqh",
        "outputId": "88aac868-fa6d-4fbd-c4ea-9f393ab63ee6"
      },
      "execution_count": 53,
      "outputs": [
        {
          "output_type": "execute_result",
          "data": {
            "text/plain": [
              "{'neg': 0.057, 'neu': 0.827, 'pos': 0.115, 'compound': 0.9817}"
            ]
          },
          "metadata": {},
          "execution_count": 53
        }
      ]
    },
    {
      "cell_type": "code",
      "source": [],
      "metadata": {
        "id": "hl-Fzw1sm9-x"
      },
      "execution_count": null,
      "outputs": []
    },
    {
      "cell_type": "code",
      "source": [],
      "metadata": {
        "id": "PBGgEXnHm-af"
      },
      "execution_count": 57,
      "outputs": []
    }
  ]
}